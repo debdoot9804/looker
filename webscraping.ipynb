{
  "nbformat": 4,
  "nbformat_minor": 0,
  "metadata": {
    "colab": {
      "provenance": [],
      "authorship_tag": "ABX9TyO9wiEefQVWlZbxl/L9WrTV",
      "include_colab_link": true
    },
    "kernelspec": {
      "name": "python3",
      "display_name": "Python 3"
    },
    "language_info": {
      "name": "python"
    }
  },
  "cells": [
    {
      "cell_type": "markdown",
      "metadata": {
        "id": "view-in-github",
        "colab_type": "text"
      },
      "source": [
        "<a href=\"https://colab.research.google.com/github/debdoot9804/looker/blob/dev-debdoot-sen-jd7y/webscraping.ipynb\" target=\"_parent\"><img src=\"https://colab.research.google.com/assets/colab-badge.svg\" alt=\"Open In Colab\"/></a>"
      ]
    },
    {
      "cell_type": "code",
      "execution_count": 1,
      "metadata": {
        "colab": {
          "base_uri": "https://localhost:8080/"
        },
        "id": "bZ12N0qAnNem",
        "outputId": "12ffd56a-c39d-426e-b5f3-ef4741f3c613"
      },
      "outputs": [
        {
          "output_type": "execute_result",
          "data": {
            "text/plain": [
              "<Response [200]>"
            ]
          },
          "metadata": {},
          "execution_count": 1
        }
      ],
      "source": [
        "url=\"http://quotes.toscrape.com/\"\n",
        "import requests\n",
        "response=requests.get(url)\n",
        "response"
      ]
    },
    {
      "cell_type": "code",
      "source": [
        "from bs4 import BeautifulSoup\n"
      ],
      "metadata": {
        "id": "hRgjm4TpnoZq"
      },
      "execution_count": 2,
      "outputs": []
    },
    {
      "cell_type": "code",
      "source": [
        "soup=BeautifulSoup(response.content,'html.parser')\n",
        "my_quotes=soup.findAll('span',{'class':'text'})\n",
        "my_quotes"
      ],
      "metadata": {
        "colab": {
          "base_uri": "https://localhost:8080/"
        },
        "id": "df0SC7p1n1v9",
        "outputId": "0449e608-c22e-40ca-a3ff-4a50f46481cc"
      },
      "execution_count": 6,
      "outputs": [
        {
          "output_type": "execute_result",
          "data": {
            "text/plain": [
              "[<span class=\"text\" itemprop=\"text\">“The world as we have created it is a process of our thinking. It cannot be changed without changing our thinking.”</span>,\n",
              " <span class=\"text\" itemprop=\"text\">“It is our choices, Harry, that show what we truly are, far more than our abilities.”</span>,\n",
              " <span class=\"text\" itemprop=\"text\">“There are only two ways to live your life. One is as though nothing is a miracle. The other is as though everything is a miracle.”</span>,\n",
              " <span class=\"text\" itemprop=\"text\">“The person, be it gentleman or lady, who has not pleasure in a good novel, must be intolerably stupid.”</span>,\n",
              " <span class=\"text\" itemprop=\"text\">“Imperfection is beauty, madness is genius and it's better to be absolutely ridiculous than absolutely boring.”</span>,\n",
              " <span class=\"text\" itemprop=\"text\">“Try not to become a man of success. Rather become a man of value.”</span>,\n",
              " <span class=\"text\" itemprop=\"text\">“It is better to be hated for what you are than to be loved for what you are not.”</span>,\n",
              " <span class=\"text\" itemprop=\"text\">“I have not failed. I've just found 10,000 ways that won't work.”</span>,\n",
              " <span class=\"text\" itemprop=\"text\">“A woman is like a tea bag; you never know how strong it is until it's in hot water.”</span>,\n",
              " <span class=\"text\" itemprop=\"text\">“A day without sunshine is like, you know, night.”</span>]"
            ]
          },
          "metadata": {},
          "execution_count": 6
        }
      ]
    },
    {
      "cell_type": "code",
      "source": [
        "for i in my_quotes:\n",
        "  print(i.get_text())"
      ],
      "metadata": {
        "colab": {
          "base_uri": "https://localhost:8080/"
        },
        "id": "klYVPQ8Krkef",
        "outputId": "b5f856c7-bd42-4885-d314-84b4dd81b344"
      },
      "execution_count": 9,
      "outputs": [
        {
          "output_type": "stream",
          "name": "stdout",
          "text": [
            "“The world as we have created it is a process of our thinking. It cannot be changed without changing our thinking.”\n",
            "“It is our choices, Harry, that show what we truly are, far more than our abilities.”\n",
            "“There are only two ways to live your life. One is as though nothing is a miracle. The other is as though everything is a miracle.”\n",
            "“The person, be it gentleman or lady, who has not pleasure in a good novel, must be intolerably stupid.”\n",
            "“Imperfection is beauty, madness is genius and it's better to be absolutely ridiculous than absolutely boring.”\n",
            "“Try not to become a man of success. Rather become a man of value.”\n",
            "“It is better to be hated for what you are than to be loved for what you are not.”\n",
            "“I have not failed. I've just found 10,000 ways that won't work.”\n",
            "“A woman is like a tea bag; you never know how strong it is until it's in hot water.”\n",
            "“A day without sunshine is like, you know, night.”\n"
          ]
        }
      ]
    },
    {
      "cell_type": "code",
      "source": [
        "upper=[]\n",
        "for i in my_quotes:\n",
        "  upper.append(i.get_text().upper())\n",
        "upper"
      ],
      "metadata": {
        "colab": {
          "base_uri": "https://localhost:8080/"
        },
        "id": "duxvyJVyso9o",
        "outputId": "1afec48d-ce4a-43fd-be11-8255cc169ddf"
      },
      "execution_count": 11,
      "outputs": [
        {
          "output_type": "execute_result",
          "data": {
            "text/plain": [
              "['“THE WORLD AS WE HAVE CREATED IT IS A PROCESS OF OUR THINKING. IT CANNOT BE CHANGED WITHOUT CHANGING OUR THINKING.”',\n",
              " '“IT IS OUR CHOICES, HARRY, THAT SHOW WHAT WE TRULY ARE, FAR MORE THAN OUR ABILITIES.”',\n",
              " '“THERE ARE ONLY TWO WAYS TO LIVE YOUR LIFE. ONE IS AS THOUGH NOTHING IS A MIRACLE. THE OTHER IS AS THOUGH EVERYTHING IS A MIRACLE.”',\n",
              " '“THE PERSON, BE IT GENTLEMAN OR LADY, WHO HAS NOT PLEASURE IN A GOOD NOVEL, MUST BE INTOLERABLY STUPID.”',\n",
              " \"“IMPERFECTION IS BEAUTY, MADNESS IS GENIUS AND IT'S BETTER TO BE ABSOLUTELY RIDICULOUS THAN ABSOLUTELY BORING.”\",\n",
              " '“TRY NOT TO BECOME A MAN OF SUCCESS. RATHER BECOME A MAN OF VALUE.”',\n",
              " '“IT IS BETTER TO BE HATED FOR WHAT YOU ARE THAN TO BE LOVED FOR WHAT YOU ARE NOT.”',\n",
              " \"“I HAVE NOT FAILED. I'VE JUST FOUND 10,000 WAYS THAT WON'T WORK.”\",\n",
              " \"“A WOMAN IS LIKE A TEA BAG; YOU NEVER KNOW HOW STRONG IT IS UNTIL IT'S IN HOT WATER.”\",\n",
              " '“A DAY WITHOUT SUNSHINE IS LIKE, YOU KNOW, NIGHT.”']"
            ]
          },
          "metadata": {},
          "execution_count": 11
        }
      ]
    },
    {
      "cell_type": "markdown",
      "source": [
        "#Get the count of quotes\n",
        "#Get the count of words in each row\n"
      ],
      "metadata": {
        "id": "Umuf83k2tYJ8"
      }
    },
    {
      "cell_type": "code",
      "source": [
        "quote_count=len(upper)\n",
        "word_count=[]\n",
        "for i in upper:\n",
        "  tokens=i.split(\" \")\n",
        "  word_count.append(len(tokens))\n",
        "word_count\n",
        "tokens\n"
      ],
      "metadata": {
        "colab": {
          "base_uri": "https://localhost:8080/"
        },
        "id": "L3VcoXgttisf",
        "outputId": "6c3f2ea2-eb3d-49de-c466-860770543314"
      },
      "execution_count": 14,
      "outputs": [
        {
          "output_type": "execute_result",
          "data": {
            "text/plain": [
              "['“A', 'DAY', 'WITHOUT', 'SUNSHINE', 'IS', 'LIKE,', 'YOU', 'KNOW,', 'NIGHT.”']"
            ]
          },
          "metadata": {},
          "execution_count": 14
        }
      ]
    },
    {
      "cell_type": "markdown",
      "source": [
        "#Extract longest quotes"
      ],
      "metadata": {
        "id": "IZp-Nbr2wIkp"
      }
    },
    {
      "cell_type": "code",
      "source": [
        "max(upper,key=lambda x:len(x.split(\" \")))\n"
      ],
      "metadata": {
        "colab": {
          "base_uri": "https://localhost:8080/",
          "height": 35
        },
        "id": "JGw3TDL7wNNq",
        "outputId": "04b01f93-7488-4c2f-cbbe-39e558fea746"
      },
      "execution_count": 15,
      "outputs": [
        {
          "output_type": "execute_result",
          "data": {
            "text/plain": [
              "'“THERE ARE ONLY TWO WAYS TO LIVE YOUR LIFE. ONE IS AS THOUGH NOTHING IS A MIRACLE. THE OTHER IS AS THOUGH EVERYTHING IS A MIRACLE.”'"
            ],
            "application/vnd.google.colaboratory.intrinsic+json": {
              "type": "string"
            }
          },
          "metadata": {},
          "execution_count": 15
        }
      ]
    },
    {
      "cell_type": "markdown",
      "source": [
        "#replace \"it\" with \"QUOTE\""
      ],
      "metadata": {
        "id": "Jw8yiKWzzMNw"
      }
    },
    {
      "cell_type": "code",
      "source": [
        "new=[]\n",
        "for i in upper:\n",
        "  new.append(i.replace('IT','QUOTE'))\n",
        "new"
      ],
      "metadata": {
        "colab": {
          "base_uri": "https://localhost:8080/"
        },
        "id": "k5zYytWIzQoY",
        "outputId": "c703a216-2496-424e-9c7d-67bb2ed317f7"
      },
      "execution_count": 20,
      "outputs": [
        {
          "output_type": "execute_result",
          "data": {
            "text/plain": [
              "['“THE WORLD AS WE HAVE CREATED QUOTE IS A PROCESS OF OUR THINKING. QUOTE CANNOT BE CHANGED WQUOTEHOUT CHANGING OUR THINKING.”',\n",
              " '“QUOTE IS OUR CHOICES, HARRY, THAT SHOW WHAT WE TRULY ARE, FAR MORE THAN OUR ABILQUOTEIES.”',\n",
              " '“THERE ARE ONLY TWO WAYS TO LIVE YOUR LIFE. ONE IS AS THOUGH NOTHING IS A MIRACLE. THE OTHER IS AS THOUGH EVERYTHING IS A MIRACLE.”',\n",
              " '“THE PERSON, BE QUOTE GENTLEMAN OR LADY, WHO HAS NOT PLEASURE IN A GOOD NOVEL, MUST BE INTOLERABLY STUPID.”',\n",
              " \"“IMPERFECTION IS BEAUTY, MADNESS IS GENIUS AND QUOTE'S BETTER TO BE ABSOLUTELY RIDICULOUS THAN ABSOLUTELY BORING.”\",\n",
              " '“TRY NOT TO BECOME A MAN OF SUCCESS. RATHER BECOME A MAN OF VALUE.”',\n",
              " '“QUOTE IS BETTER TO BE HATED FOR WHAT YOU ARE THAN TO BE LOVED FOR WHAT YOU ARE NOT.”',\n",
              " \"“I HAVE NOT FAILED. I'VE JUST FOUND 10,000 WAYS THAT WON'T WORK.”\",\n",
              " \"“A WOMAN IS LIKE A TEA BAG; YOU NEVER KNOW HOW STRONG QUOTE IS UNTIL QUOTE'S IN HOT WATER.”\",\n",
              " '“A DAY WQUOTEHOUT SUNSHINE IS LIKE, YOU KNOW, NIGHT.”']"
            ]
          },
          "metadata": {},
          "execution_count": 20
        }
      ]
    }
  ]
}